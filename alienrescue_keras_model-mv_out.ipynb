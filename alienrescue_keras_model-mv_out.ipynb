{
 "cells": [
  {
   "cell_type": "code",
   "execution_count": 124,
   "metadata": {
    "scrolled": true
   },
   "outputs": [
    {
     "name": "stdout",
     "output_type": "stream",
     "text": [
      "_________________________________________________________________\n",
      "Layer (type)                 Output Shape              Param #   \n",
      "=================================================================\n",
      "conv2d_84 (Conv2D)           (None, 1180, 56, 32)      1056      \n",
      "_________________________________________________________________\n",
      "conv2d_85 (Conv2D)           (None, 1180, 56, 32)      32800     \n",
      "_________________________________________________________________\n",
      "max_pooling2d_59 (MaxPooling (None, 590, 28, 32)       0         \n",
      "_________________________________________________________________\n",
      "dropout_18 (Dropout)         (None, 590, 28, 32)       0         \n",
      "_________________________________________________________________\n",
      "conv2d_86 (Conv2D)           (None, 587, 21, 16)       16400     \n",
      "_________________________________________________________________\n",
      "max_pooling2d_60 (MaxPooling (None, 293, 10, 16)       0         \n",
      "_________________________________________________________________\n",
      "dropout_19 (Dropout)         (None, 293, 10, 16)       0         \n",
      "_________________________________________________________________\n",
      "flatten_32 (Flatten)         (None, 46880)             0         \n",
      "_________________________________________________________________\n",
      "dense_76 (Dense)             (None, 512)               24003072  \n",
      "_________________________________________________________________\n",
      "dropout_20 (Dropout)         (None, 512)               0         \n",
      "_________________________________________________________________\n",
      "dense_77 (Dense)             (None, 6)                 3078      \n",
      "=================================================================\n",
      "Total params: 24,056,406\n",
      "Trainable params: 24,056,406\n",
      "Non-trainable params: 0\n",
      "_________________________________________________________________\n"
     ]
    }
   ],
   "source": [
    "from keras.models import Sequential, load_model, Model\n",
    "from keras.layers import Dense, Flatten, Conv2D, MaxPool2D, Dropout\n",
    "maxn= 1180\n",
    "maxcol = 56\n",
    "\n",
    "model = Sequential()\n",
    "model.add(Conv2D(filters=32, kernel_size=(4,8), padding='Same',strides=1\n",
    "                 ,kernel_initializer='he_normal'\n",
    "                 ,activation='relu', input_shape=(maxn,maxcol,1,)))\n",
    "model.add(Conv2D(filters=32, kernel_size=(4,8), padding='Same', strides=1\n",
    "                 ,kernel_initializer='he_normal'\n",
    "                 ,activation='relu'))\n",
    "model.add(MaxPool2D(pool_size=(2, 2)))\n",
    "model.add(Dropout(0.25))\n",
    "model.add(Conv2D(16, (4, 8),kernel_initializer='he_normal', activation='relu'))\n",
    "model.add(MaxPool2D(pool_size=(2, 2)))\n",
    "model.add(Dropout(0.25))\n",
    "model.add(Flatten())\n",
    "model.add(Dense(512, activation = 'relu'))\n",
    "model.add(Dropout(0.5))\n",
    "model.add(Dense(6, activation = 'sigmoid'))\n",
    "model.summary()"
   ]
  },
  {
   "cell_type": "code",
   "execution_count": 73,
   "metadata": {},
   "outputs": [],
   "source": [
    "from keras import backend as K\n",
    "\n",
    "def single_class_precision(interesting_class_id):\n",
    "    def prec(y_true, y_pred):\n",
    "        class_id_true = K.argmax(y_true, axis=-1)\n",
    "        class_id_pred = K.argmax(y_pred, axis=-1)\n",
    "        precision_mask = K.cast(K.equal(class_id_pred, interesting_class_id), 'int32')\n",
    "        class_prec_tensor = K.cast(K.equal(class_id_true, class_id_pred), 'int32') * precision_mask\n",
    "        class_prec = K.cast(K.sum(class_prec_tensor), 'float32') / K.cast(K.maximum(K.sum(precision_mask), 1), 'float32')\n",
    "        return class_prec\n",
    "    return prec\n",
    "def single_class_recall(interesting_class_id):\n",
    "    def recall(y_true, y_pred):\n",
    "        class_id_true = K.argmax(y_true, axis=-1)\n",
    "        class_id_pred = K.argmax(y_pred, axis=-1)\n",
    "        recall_mask = K.cast(K.equal(class_id_true, interesting_class_id), 'int32')\n",
    "        class_recall_tensor = K.cast(K.equal(class_id_true, class_id_pred), 'int32') * recall_mask\n",
    "        class_recall = K.cast(K.sum(class_recall_tensor), 'float32') / K.cast(K.maximum(K.sum(recall_mask), 1), 'float32')\n",
    "        return class_recall\n",
    "    return recall"
   ]
  },
  {
   "cell_type": "code",
   "execution_count": 74,
   "metadata": {},
   "outputs": [],
   "source": [
    "import tensorflow as tf\n",
    "import keras.backend.tensorflow_backend as tfb\n",
    "\n",
    "POS_WEIGHT = 3  # multiplier for positive targets, needs to be tuned\n",
    "\n",
    "def weighted_binary_crossentropy(target, output):\n",
    "    \"\"\"\n",
    "    Weighted binary crossentropy between an output tensor \n",
    "    and a target tensor. POS_WEIGHT is used as a multiplier \n",
    "    for the positive targets.\n",
    "\n",
    "    Combination of the following functions:\n",
    "    * keras.losses.binary_crossentropy\n",
    "    * keras.backend.tensorflow_backend.binary_crossentropy\n",
    "    * tf.nn.weighted_cross_entropy_with_logits\n",
    "    \"\"\"\n",
    "    # transform back to logits\n",
    "    _epsilon = tfb._to_tensor(tfb.epsilon(), output.dtype.base_dtype)\n",
    "    output = tf.clip_by_value(output, _epsilon, 1 - _epsilon)\n",
    "    output = tf.log(output / (1 - output))\n",
    "    # compute weighted loss\n",
    "    loss = tf.nn.weighted_cross_entropy_with_logits(targets=target,\n",
    "                                                    logits=output,\n",
    "                                                    pos_weight=POS_WEIGHT)\n",
    "    return tf.reduce_mean(loss, axis=-1)"
   ]
  },
  {
   "cell_type": "code",
   "execution_count": 126,
   "metadata": {},
   "outputs": [
    {
     "name": "stdout",
     "output_type": "stream",
     "text": [
      "Train on 5693 samples, validate on 633 samples\n",
      "Epoch 1/11\n",
      "5693/5693 [==============================] - 2027s 356ms/step - loss: 0.1851 - acc: 0.9273 - prec: 0.9156 - recall: 0.5276 - prec_1: 0.7396 - recall_1: 0.5484 - prec_2: 0.6875 - recall_2: 0.5088 - prec_3: 0.5034 - recall_3: 0.5871 - prec_4: 0.3010 - recall_4: 0.6707 - prec_5: 0.2720 - recall_5: 0.6913 - val_loss: 0.0020 - val_acc: 1.0000 - val_prec: 0.0000e+00 - val_recall: 0.0000e+00 - val_prec_1: 0.5577 - val_recall_1: 0.1595 - val_prec_2: 0.6452 - val_recall_2: 0.2837 - val_prec_3: 0.4032 - val_recall_3: 0.7472 - val_prec_4: 0.0000e+00 - val_recall_4: 0.0000e+00 - val_prec_5: 0.4586 - val_recall_5: 0.6209\n",
      "Epoch 2/11\n",
      "5693/5693 [==============================] - 2029s 356ms/step - loss: 0.0100 - acc: 0.9969 - prec: 0.9920 - recall: 0.7206 - prec_1: 0.9373 - recall_1: 0.7019 - prec_2: 0.8435 - recall_2: 0.6101 - prec_3: 0.6592 - recall_3: 0.7333 - prec_4: 0.4715 - recall_4: 0.8588 - prec_5: 0.3690 - recall_5: 0.8946 - val_loss: 0.0011 - val_acc: 1.0000 - val_prec: 0.6840 - val_recall: 0.6840 - val_prec_1: 0.8736 - val_recall_1: 0.6648 - val_prec_2: 0.8736 - val_recall_2: 0.5507 - val_prec_3: 0.4032 - val_recall_3: 0.7472 - val_prec_4: 0.6840 - val_recall_4: 0.6840 - val_prec_5: 0.6044 - val_recall_5: 0.6209\n",
      "Epoch 3/11\n",
      "5693/5693 [==============================] - 2033s 357ms/step - loss: 0.0036 - acc: 0.9991 - prec: 1.0000 - recall: 0.7521 - prec_1: 0.9462 - recall_1: 0.8111 - prec_2: 0.8804 - recall_2: 0.6116 - prec_3: 0.7202 - recall_3: 0.8251 - prec_4: 0.5194 - recall_4: 0.8778 - prec_5: 0.3734 - recall_5: 0.8994 - val_loss: 1.6385e-04 - val_acc: 1.0000 - val_prec: 0.5577 - val_recall: 0.3997 - val_prec_1: 0.8736 - val_recall_1: 0.6648 - val_prec_2: 0.8736 - val_recall_2: 0.2716 - val_prec_3: 0.5054 - val_recall_3: 0.5004 - val_prec_4: 0.0000e+00 - val_recall_4: 0.0000e+00 - val_prec_5: 0.4441 - val_recall_5: 0.6209\n",
      "Epoch 4/11\n",
      "5693/5693 [==============================] - 2053s 361ms/step - loss: 0.0045 - acc: 0.9988 - prec: 1.0000 - recall: 0.7752 - prec_1: 0.9708 - recall_1: 0.7955 - prec_2: 0.9167 - recall_2: 0.6687 - prec_3: 0.7176 - recall_3: 0.8476 - prec_4: 0.5705 - recall_4: 0.8593 - prec_5: 0.3816 - recall_5: 0.8525 - val_loss: 8.8607e-05 - val_acc: 1.0000 - val_prec: 0.5577 - val_recall: 0.3997 - val_prec_1: 0.6840 - val_recall_1: 0.3420 - val_prec_2: 0.9368 - val_recall_2: 0.5833 - val_prec_3: 0.4998 - val_recall_3: 0.5004 - val_prec_4: 0.4803 - val_recall_4: 0.6840 - val_prec_5: 0.5334 - val_recall_5: 0.6209\n",
      "Epoch 5/11\n",
      "5693/5693 [==============================] - 2044s 359ms/step - loss: 0.0031 - acc: 0.9992 - prec: 1.0000 - recall: 0.8229 - prec_1: 0.9593 - recall_1: 0.8178 - prec_2: 0.9316 - recall_2: 0.6376 - prec_3: 0.7495 - recall_3: 0.8687 - prec_4: 0.5596 - recall_4: 0.8849 - prec_5: 0.3940 - recall_5: 0.8665 - val_loss: 5.8815e-05 - val_acc: 1.0000 - val_prec: 0.6840 - val_recall: 0.6840 - val_prec_1: 0.8104 - val_recall_1: 0.6140 - val_prec_2: 0.9368 - val_recall_2: 0.3270 - val_prec_3: 0.3760 - val_recall_3: 0.7472 - val_prec_4: 0.3504 - val_recall_4: 0.3504 - val_prec_5: 0.5340 - val_recall_5: 0.6209\n",
      "Epoch 6/11\n",
      "5693/5693 [==============================] - 2013s 354ms/step - loss: 0.0013 - acc: 0.9996 - prec: 1.0000 - recall: 0.7842 - prec_1: 0.9484 - recall_1: 0.9119 - prec_2: 0.9270 - recall_2: 0.7254 - prec_3: 0.8384 - recall_3: 0.8739 - prec_4: 0.5606 - recall_4: 0.8664 - prec_5: 0.4451 - recall_5: 0.8735 - val_loss: 9.3151e-06 - val_acc: 1.0000 - val_prec: 0.5577 - val_recall: 0.3997 - val_prec_1: 0.8736 - val_recall_1: 0.6648 - val_prec_2: 0.7634 - val_recall_2: 0.5499 - val_prec_3: 0.5587 - val_recall_3: 0.7472 - val_prec_4: 0.0000e+00 - val_recall_4: 0.0000e+00 - val_prec_5: 0.5137 - val_recall_5: 0.6209\n",
      "Epoch 7/11\n",
      "5693/5693 [==============================] - 2013s 354ms/step - loss: 0.0023 - acc: 0.9993 - prec: 1.0000 - recall: 0.8059 - prec_1: 0.9629 - recall_1: 0.9304 - prec_2: 0.9374 - recall_2: 0.7179 - prec_3: 0.7944 - recall_3: 0.8807 - prec_4: 0.6256 - recall_4: 0.9091 - prec_5: 0.5016 - recall_5: 0.8946 - val_loss: 7.5055e-06 - val_acc: 1.0000 - val_prec: 0.6840 - val_recall: 0.6840 - val_prec_1: 0.8104 - val_recall_1: 0.6140 - val_prec_2: 0.9368 - val_recall_2: 0.4521 - val_prec_3: 0.7472 - val_recall_3: 0.7472 - val_prec_4: 0.5687 - val_recall_4: 0.3504 - val_prec_5: 0.4873 - val_recall_5: 0.6209\n",
      "Epoch 8/11\n",
      "5693/5693 [==============================] - 2088s 367ms/step - loss: 0.0014 - acc: 0.9996 - prec: 1.0000 - recall: 0.8163 - prec_1: 0.9723 - recall_1: 0.8831 - prec_2: 0.9530 - recall_2: 0.7103 - prec_3: 0.7793 - recall_3: 0.8712 - prec_4: 0.6480 - recall_4: 0.9075 - prec_5: 0.4510 - recall_5: 0.8595 - val_loss: 2.8353e-05 - val_acc: 1.0000 - val_prec: 0.6840 - val_recall: 0.6840 - val_prec_1: 0.8104 - val_recall_1: 0.6140 - val_prec_2: 0.9368 - val_recall_2: 0.4567 - val_prec_3: 0.4470 - val_recall_3: 0.7472 - val_prec_4: 0.3504 - val_recall_4: 0.3504 - val_prec_5: 0.5340 - val_recall_5: 0.6209\n",
      "Epoch 9/11\n",
      "5693/5693 [==============================] - 2057s 361ms/step - loss: 0.0020 - acc: 0.9995 - prec: 1.0000 - recall: 0.8165 - prec_1: 0.9734 - recall_1: 0.9119 - prec_2: 0.9267 - recall_2: 0.7327 - prec_3: 0.7970 - recall_3: 0.8429 - prec_4: 0.5612 - recall_4: 0.8780 - prec_5: 0.4826 - recall_5: 0.8642 - val_loss: 7.8792e-06 - val_acc: 1.0000 - val_prec: 0.6840 - val_recall: 0.6840 - val_prec_1: 0.9368 - val_recall_1: 0.7773 - val_prec_2: 0.9368 - val_recall_2: 0.6395 - val_prec_3: 0.7472 - val_recall_3: 0.7472 - val_prec_4: 0.4803 - val_recall_4: 0.6840 - val_prec_5: 0.5813 - val_recall_5: 0.6209\n",
      "Epoch 10/11\n",
      "5693/5693 [==============================] - 2036s 358ms/step - loss: 0.0028 - acc: 0.9992 - prec: 1.0000 - recall: 0.8417 - prec_1: 0.9566 - recall_1: 0.9034 - prec_2: 0.9369 - recall_2: 0.7135 - prec_3: 0.7927 - recall_3: 0.8023 - prec_4: 0.5695 - recall_4: 0.9139 - prec_5: 0.4966 - recall_5: 0.9345 - val_loss: 4.1924e-05 - val_acc: 1.0000 - val_prec: 0.6840 - val_recall: 0.6840 - val_prec_1: 0.8104 - val_recall_1: 0.6140 - val_prec_2: 0.9368 - val_recall_2: 0.4977 - val_prec_3: 0.0000e+00 - val_recall_3: 0.0000e+00 - val_prec_4: 0.5577 - val_recall_4: 0.3336 - val_prec_5: 0.4611 - val_recall_5: 0.6209\n",
      "Epoch 11/11\n",
      "5693/5693 [==============================] - 2022s 355ms/step - loss: 0.0017 - acc: 0.9995 - prec: 1.0000 - recall: 0.8340 - prec_1: 0.9582 - recall_1: 0.9030 - prec_2: 0.9253 - recall_2: 0.6867 - prec_3: 0.8018 - recall_3: 0.8031 - prec_4: 0.5407 - recall_4: 0.8734 - prec_5: 0.4476 - recall_5: 0.8853 - val_loss: 3.7883e-05 - val_acc: 1.0000 - val_prec: 0.6840 - val_recall: 0.6840 - val_prec_1: 0.8736 - val_recall_1: 0.5053 - val_prec_2: 0.9368 - val_recall_2: 0.5401 - val_prec_3: 0.3602 - val_recall_3: 0.2524 - val_prec_4: 0.2788 - val_recall_4: 0.3336 - val_prec_5: 0.4955 - val_recall_5: 0.6209\n"
     ]
    }
   ],
   "source": [
    "class_weights = {0: 3.,\n",
    "                1: 6.,\n",
    "                2: 1.,\n",
    "                3: 3.0,\n",
    "                4: 4.0,\n",
    "                5: 2.0}\n",
    "import numpy as np\n",
    "path = '/Volumes/Storage/0.SAGAbackup/ARData/'\n",
    "\n",
    "ytest=np.load(path+'ytest_rm_outlier.npy')\n",
    "ytrain=np.load(path+'ytrain_rm_outlier_upsample.npy')\n",
    "xtest=np.load(path+'xtest_rm_outlier.npy')\n",
    "xtrain=np.load(path+'xtrain_rm_outlier_upsample.npy')\n",
    "model.compile(loss=\"binary_crossentropy\", optimizer='adam',metrics=['accuracy',\n",
    "                    single_class_precision(0), single_class_recall(0),\n",
    "                       single_class_precision(1), single_class_recall(1),\n",
    "                       single_class_precision(2), single_class_recall(2),\n",
    "                       single_class_precision(3), single_class_recall(3),\n",
    "                       single_class_precision(4), single_class_recall(4),\n",
    "                       single_class_precision(5), single_class_recall(5)])\n",
    "hist = model.fit(xtrain,ytrain,batch_size=40,epochs=11,validation_split=0.1)"
   ]
  },
  {
   "cell_type": "code",
   "execution_count": 127,
   "metadata": {},
   "outputs": [
    {
     "data": {
      "image/png": "[encoded data removed]",
      "text/plain": [
       "<Figure size 432x288 with 1 Axes>"
      ]
     },
     "metadata": {},
     "output_type": "display_data"
    }
   ],
   "source": [
    "%matplotlib inline\n",
    "import matplotlib.pyplot as plt\n",
    "\n",
    "plt.plot(hist.history['prec'], label='0')\n",
    "plt.plot(hist.history['prec_1'], label='1')\n",
    "plt.plot(hist.history['prec_2'], label='2')\n",
    "plt.plot(hist.history['prec_3'], label='3')\n",
    "plt.plot(hist.history['prec_4'], label='4')\n",
    "plt.plot(hist.history['prec_5'], label='5')\n",
    "\n",
    "plt.xlabel('epoch')\n",
    "plt.ylabel('precision')\n",
    "plt.legend(loc='lower right')\n",
    "plt.show()"
   ]
  },
  {
   "cell_type": "code",
   "execution_count": 128,
   "metadata": {},
   "outputs": [
    {
     "name": "stdout",
     "output_type": "stream",
     "text": [
      "94/94 [==============================] - 10s 108ms/step\n",
      "Test loss: 1.03726038781\n",
      "Test accuracy: 0.89893612329\n"
     ]
    }
   ],
   "source": [
    "score=model.evaluate(xtest,ytest)\n",
    "print('Test loss:', score[0])\n",
    "print('Test accuracy:', score[1])"
   ]
  },
  {
   "cell_type": "code",
   "execution_count": 67,
   "metadata": {},
   "outputs": [],
   "source": [
    "model.save(path+'alienrescue_keras_model_auc9065.h5')"
   ]
  },
  {
   "cell_type": "code",
   "execution_count": 123,
   "metadata": {},
   "outputs": [
    {
     "data": {
      "text/plain": [
       "<matplotlib.image.AxesImage at 0x15f9517b8>"
      ]
     },
     "execution_count": 123,
     "metadata": {},
     "output_type": "execute_result"
    },
    {
     "data": {
      "image/png": "[encoded data removed]",
      "text/plain": [
       "<Figure size 1152x2016 with 2 Axes>"
      ]
     },
     "metadata": {},
     "output_type": "display_data"
    }
   ],
   "source": [
    "import matplotlib.pyplot as plt\n",
    "fig = plt.figure(figsize=(16, 28))\n",
    "showx = xtest[3,:,:].reshape(maxn, maxcol)\n",
    "#plt.imshow(showx, cmap='Greys', interpolation='nearest')\n",
    "plt.imshow(showx, interpolation=\"nearest\")\n",
    "showx2 = xtrain[6,:,:].reshape(maxn, maxcol)\n",
    "#plt.imshow(showx, cmap='Greys', interpolation='nearest')\n",
    "\n",
    "ax = fig.add_subplot(1, 10, 1)\n",
    "plt.imshow(showx2, interpolation=\"nearest\")"
   ]
  },
  {
   "cell_type": "code",
   "execution_count": 159,
   "metadata": {},
   "outputs": [
    {
     "data": {
      "text/plain": [
       "array([[  3.92019750e-08,   2.14749457e-06,   1.10405374e-04,\n",
       "          4.26260012e-05,   1.11925136e-03,   4.58333052e-05]], dtype=float32)"
      ]
     },
     "execution_count": 159,
     "metadata": {},
     "output_type": "execute_result"
    }
   ],
   "source": [
    "x1 = xtest[[7]]\n",
    "\n",
    "y1= model.predict(x1)\n",
    "y1"
   ]
  },
  {
   "cell_type": "code",
   "execution_count": 160,
   "metadata": {},
   "outputs": [
    {
     "data": {
      "text/plain": [
       "array([[0, 0, 0, 0, 0, 0]])"
      ]
     },
     "execution_count": 160,
     "metadata": {},
     "output_type": "execute_result"
    }
   ],
   "source": [
    "ytest[[7]]"
   ]
  },
  {
   "cell_type": "code",
   "execution_count": 161,
   "metadata": {},
   "outputs": [
    {
     "data": {
      "text/plain": [
       "1.0"
      ]
     },
     "execution_count": 161,
     "metadata": {},
     "output_type": "execute_result"
    }
   ],
   "source": [
    "preds = (model.predict((xtest[7]).reshape(1,1180,56,1)) >= 0.33).astype(int)\n",
    "preds\n",
    "from sklearn.metrics import accuracy_score\n",
    "accuracy_score(ytest[[7]], preds)"
   ]
  },
  {
   "cell_type": "code",
   "execution_count": 117,
   "metadata": {},
   "outputs": [
    {
     "data": {
      "text/plain": [
       "array([[0, 0, 1, 0, 0, 1],\n",
       "       [0, 0, 0, 0, 0, 0],\n",
       "       [0, 0, 0, 0, 0, 0],\n",
       "       [0, 0, 0, 0, 0, 0]])"
      ]
     },
     "execution_count": 117,
     "metadata": {},
     "output_type": "execute_result"
    }
   ],
   "source": [
    "yt[[6,7,8,9       ]]"
   ]
  }
 ],
 "metadata": {
  "kernelspec": {
   "display_name": "Python 3",
   "language": "python",
   "name": "python3"
  },
  "language_info": {
   "codemirror_mode": {
    "name": "ipython",
    "version": 3
   },
   "file_extension": ".py",
   "mimetype": "text/x-python",
   "name": "python",
   "nbconvert_exporter": "python",
   "pygments_lexer": "ipython3",
   "version": "3.6.5"
  }
 },
 "nbformat": 4,
 "nbformat_minor": 2
}
