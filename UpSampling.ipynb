{
 "cells": [
  {
   "cell_type": "code",
   "execution_count": 3,
   "metadata": {},
   "outputs": [],
   "source": [
    "import numpy as np\n",
    "ytest=np.load('ytest_rm_outlier.npy')\n",
    "ytrain=np.load('ytrain_rm_outlier.npy')\n",
    "xtest=np.load('xtest_rm_outlier.npy')\n",
    "xtrain=np.load('xtrain_rm_outlier.npy')"
   ]
  },
  {
   "cell_type": "code",
   "execution_count": 94,
   "metadata": {},
   "outputs": [],
   "source": [
    "class0 = np.where(ytrain[:,0]>0) [0]\n",
    "class1 = np.where(ytrain[:,1]>0) [0]\n",
    "class2 = np.where(ytrain[:,2]>0) [0]\n",
    "class3 = np.where(ytrain[:,3]>0) [0]\n",
    "class4 = np.where(ytrain[:,4]>0) [0]\n",
    "class5 = np.where(ytrain[:,5]>0) [0]"
   ]
  },
  {
   "cell_type": "code",
   "execution_count": 95,
   "metadata": {},
   "outputs": [],
   "source": [
    "iter0 = round(ytrain.shape[0]/len(class0)) \n",
    "iter1 = round(ytrain.shape[0]/len(class1)) \n",
    "iter2 = round(ytrain.shape[0]/len(class2)) \n",
    "iter3 = round(ytrain.shape[0]/len(class3)) \n",
    "iter4 = round(ytrain.shape[0]/len(class4)) \n",
    "iter5 = round(ytrain.shape[0]/len(class5)) \n"
   ]
  },
  {
   "cell_type": "code",
   "execution_count": 96,
   "metadata": {},
   "outputs": [],
   "source": [
    "ytrain2 = np.vstack( (ytrain,ytrain[class0]) )\n",
    "xtrain2 = np.vstack( (xtrain,xtrain[class0]) )\n"
   ]
  },
  {
   "cell_type": "code",
   "execution_count": 97,
   "metadata": {},
   "outputs": [],
   "source": [
    "for i in range (1,iter0):\n",
    "    ytrain2 = np.vstack( (ytrain2,ytrain[class0]) )\n",
    "    xtrain2 = np.vstack( (xtrain2,xtrain[class0]) )\n",
    "for i in range (0,iter1):\n",
    "    ytrain2 = np.vstack( (ytrain2,ytrain[class1]) )\n",
    "    xtrain2 = np.vstack( (xtrain2,xtrain[class1]) )\n",
    "for i in range (0,iter2):\n",
    "    ytrain2 = np.vstack( (ytrain2,ytrain[class2]) )\n",
    "    xtrain2 = np.vstack( (xtrain2,xtrain[class2]) )\n",
    "for i in range (0,iter3):\n",
    "    ytrain2 = np.vstack( (ytrain2,ytrain[class3]) )\n",
    "    xtrain2 = np.vstack( (xtrain2,xtrain[class3]) )\n",
    "for i in range (0,iter4):\n",
    "    ytrain2 = np.vstack( (ytrain2,ytrain[class4]) )\n",
    "    xtrain2 = np.vstack( (xtrain2,xtrain[class4]) )\n",
    "for i in range (0,iter5):\n",
    "    ytrain2 = np.vstack( (ytrain2,ytrain[class5]) )\n",
    "    xtrain2 = np.vstack( (xtrain2,xtrain[class5]) )\n",
    "\n"
   ]
  },
  {
   "cell_type": "code",
   "execution_count": 102,
   "metadata": {},
   "outputs": [
    {
     "data": {
      "text/plain": [
       "(6326, 1180, 56, 1)"
      ]
     },
     "execution_count": 102,
     "metadata": {},
     "output_type": "execute_result"
    }
   ],
   "source": [
    "ytrain2.shape\n",
    "xtrain2.shape"
   ]
  },
  {
   "cell_type": "code",
   "execution_count": 101,
   "metadata": {},
   "outputs": [],
   "source": [
    "class0 = np.where(ytrain2[:,0]>0) [0]\n",
    "class1 = np.where(ytrain2[:,1]>0) [0]\n",
    "class2 = np.where(ytrain2[:,2]>0) [0]\n",
    "class3 = np.where(ytrain2[:,3]>0) [0]\n",
    "class4 = np.where(ytrain2[:,4]>0) [0]\n",
    "class5 = np.where(ytrain2[:,5]>0) [0]\n",
    "\n",
    "ytrain2 = np.vstack( (ytrain2,ytrain2[class0]) )\n",
    "xtrain2 = np.vstack( (xtrain2,xtrain2[class0]) )\n",
    "\n",
    "ytrain2 = np.vstack( (ytrain2,ytrain2[class1]) )\n",
    "xtrain2 = np.vstack( (xtrain2,xtrain2[class1]) )\n",
    "\n",
    "ytrain2 = np.vstack( (ytrain2,ytrain2[class2]) )\n",
    "xtrain2 = np.vstack( (xtrain2,xtrain2[class2]) )\n",
    "\n",
    "ytrain2 = np.vstack( (ytrain2,ytrain2[class3]) )\n",
    "xtrain2 = np.vstack( (xtrain2,xtrain2[class3]) )\n",
    "\n",
    "ytrain2 = np.vstack( (ytrain2,ytrain2[class4]) )\n",
    "xtrain2 = np.vstack( (xtrain2,xtrain2[class4]) )\n",
    "\n",
    "ytrain2 = np.vstack( (ytrain2,ytrain2[class5]) )\n",
    "xtrain2 = np.vstack( (xtrain2,xtrain2[class5]) )"
   ]
  },
  {
   "cell_type": "code",
   "execution_count": 104,
   "metadata": {},
   "outputs": [],
   "source": [
    "np.save('xtrain_rm_outlier_upsample', xtrain2)\n",
    "np.save('ytrain_rm_outlier_upsample', ytrain2)\n",
    "\n",
    "\n",
    "##code end\n",
    "##code end"
   ]
  },
  {
   "cell_type": "code",
   "execution_count": 88,
   "metadata": {},
   "outputs": [],
   "source": [
    "x"
   ]
  },
  {
   "cell_type": "code",
   "execution_count": 89,
   "metadata": {},
   "outputs": [],
   "source": []
  },
  {
   "cell_type": "code",
   "execution_count": 90,
   "metadata": {},
   "outputs": [
    {
     "data": {
      "text/plain": [
       "1996"
      ]
     },
     "execution_count": 90,
     "metadata": {},
     "output_type": "execute_result"
    }
   ],
   "source": []
  },
  {
   "cell_type": "code",
   "execution_count": null,
   "metadata": {},
   "outputs": [],
   "source": []
  }
 ],
 "metadata": {
  "kernelspec": {
   "display_name": "Python 3",
   "language": "python",
   "name": "python3"
  },
  "language_info": {
   "codemirror_mode": {
    "name": "ipython",
    "version": 3
   },
   "file_extension": ".py",
   "mimetype": "text/x-python",
   "name": "python",
   "nbconvert_exporter": "python",
   "pygments_lexer": "ipython3",
   "version": "3.6.5"
  }
 },
 "nbformat": 4,
 "nbformat_minor": 2
}
